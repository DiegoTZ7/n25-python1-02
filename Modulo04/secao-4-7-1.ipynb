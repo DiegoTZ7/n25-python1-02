{
 "cells": [
  {
   "cell_type": "markdown",
   "metadata": {},
   "source": [
    "# 4.7.1 - Exceções\n",
    "Tratamento de erros no Python"
   ]
  },
  {
   "cell_type": "code",
   "execution_count": null,
   "metadata": {},
   "outputs": [],
   "source": [
    "# Exemplo de erro de execução de código\n",
    "try:\n",
    " valor = int(input(\"Digite um valor: \"))\n",
    " print(\"O valor resultante será: \", 1/valor)\n",
    "except ValueError:\n",
    "    print(\"Ocorreu um erro de conversão! Somente números\")\n",
    "except ZeroDivisionError:\n",
    "    print(\"Ocorreu um erro de divisão por zero!\")\n",
    "except as e:\n",
    "    print(\"Outro erro ocorreu!\", e)\n",
    "print(\"Fim do programa!\")"
   ]
  }
 ],
 "metadata": {
  "kernelspec": {
   "display_name": ".venv",
   "language": "python",
   "name": "python3"
  },
  "language_info": {
   "name": "python",
   "version": "3.13.2"
  }
 },
 "nbformat": 4,
 "nbformat_minor": 2
}
