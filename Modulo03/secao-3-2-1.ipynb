{
 "cells": [
  {
   "cell_type": "code",
   "execution_count": null,
   "metadata": {},
   "outputs": [],
   "source": [
    "i=10\n",
    "for i in range(1,5)"
   ]
  },
  {
   "cell_type": "markdown",
   "metadata": {},
   "source": [
    "### Laboratório 3.2.14"
   ]
  },
  {
   "cell_type": "code",
   "execution_count": null,
   "metadata": {},
   "outputs": [
    {
     "name": "stdout",
     "output_type": "stream",
     "text": [
      "A altura da pirâmide: 0\n"
     ]
    }
   ],
   "source": [
    "blocks = int(input(\"Insira o número de blocos:\"))\n",
    "# Escreva seu código aqui.\n",
    "altura = 0\n",
    "total_blocos = 0\n",
    "while total_blocos + altura + 1 < blocks:\n",
    "    altura += 1\n",
    "    total_blocos += altura\n",
    "    \n",
    "#\n",
    "print(\"A altura da pirâmide:\", altura)"
   ]
  },
  {
   "cell_type": "markdown",
   "metadata": {},
   "source": [
    "#### Desafio\n",
    "Fazer um programa que solicite um número e retorne a raiz \n",
    "aproximada do número.\n",
    "Você deve usar laço for, if e break"
   ]
  },
  {
   "cell_type": "code",
   "execution_count": null,
   "metadata": {},
   "outputs": [],
   "source": [
    "num = int(input(\"Digite o valor: \"))\n",
    "raiz = 0\n",
    "for i in range(num):\n",
    "# seu codigo aqui\n",
    "raiz = i \n",
    "if (raiz + 1) * (raiz + 1) > num:\n",
    "    break:\n",
    "print(\"raiz aproximada é: \", raiz)"
   ]
  },
  {
   "cell_type": "code",
   "execution_count": null,
   "metadata": {},
   "outputs": [],
   "source": [
    "# Teste CPF\n",
    "cpf = input(\"Digite o cpf (somente número): \")\n",
    "cpf_sem_dg = \"\"\n",
    "soma=0\n",
    "for i in range(10):\n",
    "    soma += int (cpf [i]) * (10 - i)\n",
    "    cpf_sem_dg += cpf[i]\n",
    "# calculo 1° digito\n",
    "dgl = soma * 10 % 11\n",
    "if dgl > 9: dg1 = 0\n",
    "soma = 0\n",
    "for i in range(10):\n",
    "    soma += int(cpf[i]) * (11 - i)\n",
    "# calculo 2° digito\n",
    "dg2 = soma * 10 % 11\n",
    "if dg2 > 9: dg2 = 0\n",
    "# Montando cpf calculado\n",
    "cpf_sem_dg (variable) cpf_sem_dg: str\n",
    "if cpf != cpf_sem_dg:\n",
    "    print(\"Cpf inválido!\", cpf, cpf_sem_dg)\n",
    "else:\n",
    "    print(\"CPF válido\", cpf, cpf_sem_dg)"
   ]
  }
 ],
 "metadata": {
  "kernelspec": {
   "display_name": ".venv",
   "language": "python",
   "name": "python3"
  },
  "language_info": {
   "codemirror_mode": {
    "name": "ipython",
    "version": 3
   },
   "file_extension": ".py",
   "mimetype": "text/x-python",
   "name": "python",
   "nbconvert_exporter": "python",
   "pygments_lexer": "ipython3",
   "version": "3.13.2"
  }
 },
 "nbformat": 4,
 "nbformat_minor": 2
}
